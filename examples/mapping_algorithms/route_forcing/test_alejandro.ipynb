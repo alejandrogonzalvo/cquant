{
 "cells": [
  {
   "cell_type": "code",
   "execution_count": 1,
   "metadata": {},
   "outputs": [],
   "source": [
    "from qiskit import *\n",
    "from qiskit.circuit.random import random_circuit\n",
    "from qiskit.circuit.library import QFT\n",
    "import networkx as nx\n",
    "import numpy as np\n",
    "from scipy import sparse\n",
    "\n",
    "from operations_graph import OperationsGraph\n",
    "from route_forcing import RouteForcing"
   ]
  },
  {
   "cell_type": "code",
   "execution_count": 3,
   "metadata": {},
   "outputs": [],
   "source": [
    "def decompose_to_cx(qc):\n",
    "    count = 0\n",
    "    while qc.num_nonlocal_gates() != len(qc.get_instructions('cx')) and count < 20000000:\n",
    "        qc = qc.decompose()\n",
    "        count += 1\n",
    "        if count == 20000000:\n",
    "            print('Decomposition stopped by count!', flush=True)\n",
    "            count = 0\n",
    "    \n",
    "    return qc"
   ]
  },
  {
   "cell_type": "code",
   "execution_count": 5,
   "metadata": {},
   "outputs": [],
   "source": [
    "def get_depth(qubits, mapper):\n",
    "    circ = QuantumCircuit(qubits, qubits)\n",
    "\n",
    "    for op in mapper.code:\n",
    "        grid = int(np.sqrt(qubits))\n",
    "        if op == 'NEXT':\n",
    "            continue\n",
    "        if len(op) == 2:\n",
    "            circ.h(grid*op[1][0] + op[1][1])\n",
    "        elif op[1] == op[2]:\n",
    "            circ.h(grid*op[1][0] + op[1][1])\n",
    "        else:\n",
    "            circ.swap(grid*op[1][0] + op[1][1], grid*op[2][0] + op[2][1])\n",
    "\n",
    "    return circ.depth()"
   ]
  },
  {
   "cell_type": "code",
   "execution_count": 10,
   "metadata": {},
   "outputs": [],
   "source": [
    "qubits = 1024\n",
    "\n",
    "G = nx.grid_2d_graph(int(np.sqrt(qubits)), int(np.sqrt(qubits)))\n",
    "A = nx.adjacency_matrix(G).toarray()\n",
    "\n",
    "adj_list = []\n",
    "for i in range(len(A)):\n",
    "    for j in range(len(A[0])):\n",
    "        if A[i][j] == 1:\n",
    "            adj_list.append([i, j])\n",
    "\n",
    "pos = {n:n for n in G.nodes()}\n",
    "edge_fidelity = {e:1.0 for e in G.edges()} # edge fidelity of 1 in all edges\n",
    "edge_error_rate = {e:1-edge_fidelity[e] for e in G.edges()}\n",
    "\n",
    "nx.set_node_attributes(G, pos, 'pos')"
   ]
  },
  {
   "cell_type": "code",
   "execution_count": 11,
   "metadata": {},
   "outputs": [],
   "source": [
    "# Hyperparameters of the Route-Forcing algorithm\n",
    "p = 1\n",
    "k = 0"
   ]
  },
  {
   "cell_type": "code",
   "execution_count": 12,
   "metadata": {},
   "outputs": [
    {
     "name": "stdout",
     "output_type": "stream",
     "text": [
      "SWAP gates: 324056\n",
      "Resulting depth: 1322\n"
     ]
    }
   ],
   "source": [
    "# Random Circuit -- 0.3s\n",
    "\n",
    "depth = 40\n",
    "circ = random_circuit(qubits, depth, max_operands=2)\n",
    "\n",
    "op_graph = OperationsGraph(qiskit_circuit=circ)\n",
    "\n",
    "mapper = RouteForcing(op_graph=op_graph, topology=G)\n",
    "initial_placement = mapper.place('trivial')\n",
    "\n",
    "mapper.map(k=k, initial_placement=initial_placement, swap_penalization=-p, conv_steps=10000)\n",
    "\n",
    "print('SWAP gates:', mapper.added_swaps)\n",
    "print('Resulting depth:', get_depth(qubits, mapper)) # Obtained from Qiskit"
   ]
  },
  {
   "cell_type": "code",
   "execution_count": 11,
   "metadata": {},
   "outputs": [
    {
     "name": "stdout",
     "output_type": "stream",
     "text": [
      "SWAP gates: 19328\n",
      "Resulting depth: 2141\n"
     ]
    }
   ],
   "source": [
    "# QFT -- 4.3s\n",
    "\n",
    "circ = QFT(qubits)\n",
    "circ = decompose_to_cx(circ)\n",
    "\n",
    "op_graph = OperationsGraph(qiskit_circuit=circ)\n",
    "\n",
    "mapper = RouteForcing(op_graph=op_graph, topology=G)\n",
    "initial_placement = mapper.place('trivial')\n",
    "\n",
    "mapper.map(k=k, initial_placement=initial_placement, swap_penalization=-p, conv_steps=10000)\n",
    "\n",
    "print('SWAP gates:', mapper.added_swaps)\n",
    "print('Resulting depth:', get_depth(qubits, mapper)) # Obtained from Qiskit"
   ]
  }
 ],
 "metadata": {
  "kernelspec": {
   "display_name": "PhD",
   "language": "python",
   "name": "python3"
  },
  "language_info": {
   "codemirror_mode": {
    "name": "ipython",
    "version": 3
   },
   "file_extension": ".py",
   "mimetype": "text/x-python",
   "name": "python",
   "nbconvert_exporter": "python",
   "pygments_lexer": "ipython3",
   "version": "3.10.12"
  }
 },
 "nbformat": 4,
 "nbformat_minor": 2
}
