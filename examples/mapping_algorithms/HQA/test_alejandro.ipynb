{
 "cells": [
  {
   "cell_type": "code",
   "execution_count": 1,
   "metadata": {},
   "outputs": [],
   "source": [
    "import os\n",
    "import sparse\n",
    "import random\n",
    "import math\n",
    "from scipy.spatial.distance import hamming\n",
    "import numpy as np\n",
    "import matplotlib.pyplot as plt\n",
    "import csv\n",
    "import time\n",
    "from datetime import timedelta\n",
    "\n",
    "from HQA import HQA, lookahead"
   ]
  },
  {
   "cell_type": "code",
   "execution_count": 2,
   "metadata": {},
   "outputs": [],
   "source": [
    "def count_non_local_comms(Ps, distance_matrix=None):\n",
    "    if distance_matrix == None:\n",
    "        distance_matrix = [[1 if j != i else 0 for j in range(N)] for i in range(N)]\n",
    "\n",
    "    comms = []\n",
    "    for i in range(1, len(Ps)):\n",
    "        slice_comms = 0\n",
    "        for q in range(len(Ps[i])):\n",
    "            slice_comms += distance_matrix[Ps[i-1][q]][Ps[i][q]]\n",
    "        comms.append(slice_comms)\n",
    "\n",
    "    return comms"
   ]
  },
  {
   "cell_type": "code",
   "execution_count": 3,
   "metadata": {},
   "outputs": [
    {
     "name": "stdout",
     "output_type": "stream",
     "text": [
      "(64, 200, 200)\n"
     ]
    }
   ],
   "source": [
    "slices_file = 'random_q200_s1800_2qbf083_1.npz'\n",
    "Gs = sparse.load_npz(slices_file)\n",
    "qubits = Gs.shape[1]\n",
    "\n",
    "print(Gs.shape)"
   ]
  },
  {
   "cell_type": "code",
   "execution_count": 4,
   "metadata": {},
   "outputs": [],
   "source": [
    "def oee(A, G, N, part=None):\n",
    "    '''\n",
    "    :param A: Weight matrix (Chong's weights)\n",
    "    :param G: Timeslice-Interaction graph (binary)\n",
    "    :param N: Num of partitions\n",
    "    :param part: Initial partition, generates random if None\n",
    "\n",
    "    :return: OEE solution\n",
    "    '''\n",
    "    \n",
    "    if isinstance(A, sparse.COO):\n",
    "        A = A.todense()\n",
    "    \n",
    "    n_nodes = A.shape[0]\n",
    "    n_per_part = int(n_nodes / N)\n",
    "\n",
    "    if part is None:\n",
    "        part = [i for i in range(N) for _ in range(n_per_part)]\n",
    "        random.shuffle(part)\n",
    "\n",
    "    g_max = 1\n",
    "    swaps = 0\n",
    "\n",
    "    swapped = []\n",
    "\n",
    "    # Step 7\n",
    "    while g_max > 0:\n",
    "        # Step 1\n",
    "        C = [i for i in range(n_nodes)]\n",
    "        index = 0\n",
    "\n",
    "        W = np.zeros([n_nodes, N])\n",
    "        D = np.empty([n_nodes, N])\n",
    "\n",
    "        # Precompute partitions\n",
    "        P = np.stack([A[np.where(np.array(part) == i)[0]] for i in range(N)])\n",
    "        \n",
    "        for i in range(n_nodes):\n",
    "            for l in range(N):\n",
    "                W[i, l] = np.sum(P[l, :, i])\n",
    "        \n",
    "        for i in range(n_nodes):\n",
    "            for l in range(N):\n",
    "                D[i, l] = W[i, l] - W[i, part[i]]\n",
    "\n",
    "        g = []\n",
    "        # Step 4\n",
    "        while len(C) > 1:\n",
    "\n",
    "            # Step 2\n",
    "            g.append([-np.inf, None, None])\n",
    "            for i in C:\n",
    "                for j in C:\n",
    "                    g_aux = D[i, part[j]] + D[j, part[i]] - 2*A[i, j]\n",
    "                    if g_aux > g[index][0]:\n",
    "                        g[index][0] = g_aux\n",
    "                        g[index][1] = i\n",
    "                        g[index][2] = j\n",
    "            \n",
    "            a = g[index][1]\n",
    "            b = g[index][2]\n",
    "\n",
    "            C.remove(g[index][1])\n",
    "            if g[index][1] != g[index][2]:\n",
    "                C.remove(g[index][2])\n",
    "\n",
    "            # Step 3\n",
    "            for i in C:\n",
    "                for l in range(N):\n",
    "                    if l == part[a]:\n",
    "                        if part[i] != part[a] and part[i] != part[b]:\n",
    "                            D[i, l] = D[i, l] + A[i, b] - A[i, a]\n",
    "                        if part[i] == part[b]:\n",
    "                            D[i, l] = D[i, l] + 2*A[i, b] - 2*A[i, a]\n",
    "                    elif l == part[b]:\n",
    "                        if part[i] != part[a] and part[i] != part[b]:\n",
    "                            D[i, l] = D[i, l] + A[i, a] - A[i, b]\n",
    "                        if part[i] == part[a]:\n",
    "                            D[i, l] = D[i, l] +2*A[i, a] - 2*A[i, b]\n",
    "                    else:\n",
    "                        if part[i] == part[a]:\n",
    "                            D[i, l] = D[i, l] + A[i, a] - A[i, b]\n",
    "                        elif part[i] == part[b]:\n",
    "                            D[i, l] = D[i, l] + A[i, b] - A[i, a]\n",
    "                    \n",
    "            index += 1\n",
    "        g_max = np.cumsum([i[0] for i in g])\n",
    "        m = np.argmax(g_max)\n",
    "        g_max = g_max[m]\n",
    "\n",
    "        for i in g[:m+1]:\n",
    "            # print(f'Swapping nodes {i[1]} and {i[2]}')\n",
    "            swaps += 1\n",
    "            part[i[1]], part[i[2]] = part[i[2]], part[i[1]] # Swap\n",
    "            swapped.append([i[1], i[2]])\n",
    "            # print(swapped[i[1]][i[2]])\n",
    "    \n",
    "    return part, swaps, swapped"
   ]
  },
  {
   "cell_type": "code",
   "execution_count": 5,
   "metadata": {},
   "outputs": [],
   "source": [
    "# cores = [1, 2, 3, 4, 5, 6, 10, 12, 15, 20, 30, 60]\n",
    "# TODO: explodes with 40 cores\n",
    "cores = [10, 20]"
   ]
  },
  {
   "cell_type": "code",
   "execution_count": 6,
   "metadata": {},
   "outputs": [
    {
     "name": "stderr",
     "output_type": "stream",
     "text": [
      "100%|██████████| 64/64 [00:29<00:00,  2.14it/s]\n"
     ]
    },
    {
     "name": "stdout",
     "output_type": "stream",
     "text": [
      "Non-local communications: 1403\n"
     ]
    },
    {
     "name": "stderr",
     "output_type": "stream",
     "text": [
      "100%|██████████| 64/64 [00:32<00:00,  1.98it/s]"
     ]
    },
    {
     "name": "stdout",
     "output_type": "stream",
     "text": [
      "Non-local communications: 1708\n"
     ]
    },
    {
     "name": "stderr",
     "output_type": "stream",
     "text": [
      "\n"
     ]
    }
   ],
   "source": [
    "HQA_comms = []\n",
    "\n",
    "for N in cores:\n",
    "    part = [i for i in range(N) for _ in range(int(qubits/N))]\n",
    "    random.shuffle(part)\n",
    "\n",
    "    Ps = np.zeros((Gs.shape[0]+1, Gs.shape[1]), dtype=int)\n",
    "    Ps[0] = part\n",
    "\n",
    "    ##### Modifying initial partition (OEE instead of random assignation)\n",
    "    Ps[0], _, _ = oee(lookahead(Gs), None, N, part)\n",
    "\n",
    "    all_to_all_topology = None\n",
    "    Ps_HQA = HQA(Gs, Ps.copy(), N, qubits, qubits, distance_matrix=all_to_all_topology)\n",
    "\n",
    "    non_local_comunications = sum(count_non_local_comms(Ps_HQA[1:], distance_matrix=all_to_all_topology))\n",
    "    print(f\"Non-local communications: {non_local_comunications}\")\n",
    "    HQA_comms.append(sum(count_non_local_comms(Ps_HQA[1:])))\n"
   ]
  },
  {
   "cell_type": "code",
   "execution_count": 7,
   "metadata": {},
   "outputs": [
    {
     "name": "stderr",
     "output_type": "stream",
     "text": [
      "100%|██████████| 64/64 [00:30<00:00,  2.09it/s]\n"
     ]
    },
    {
     "name": "stdout",
     "output_type": "stream",
     "text": [
      "Non-local communications: 1393\n"
     ]
    },
    {
     "name": "stderr",
     "output_type": "stream",
     "text": [
      "100%|██████████| 64/64 [00:32<00:00,  1.96it/s]"
     ]
    },
    {
     "name": "stdout",
     "output_type": "stream",
     "text": [
      "Non-local communications: 1702\n"
     ]
    },
    {
     "name": "stderr",
     "output_type": "stream",
     "text": [
      "\n"
     ]
    }
   ],
   "source": [
    "HQA_comms = []\n",
    "\n",
    "for N in cores:\n",
    "    part = [i for i in range(N) for _ in range(int(qubits/N))]\n",
    "    random.shuffle(part)\n",
    "\n",
    "    Ps = np.zeros((Gs.shape[0]+1, Gs.shape[1]), dtype=int)\n",
    "    Ps[0] = part\n",
    "\n",
    "    ##### Modifying initial partition (OEE instead of random assignation)\n",
    "    Ps[0], _, _ = oee(lookahead(Gs), None, N, part)\n",
    "\n",
    "    all_to_all_topology = None\n",
    "    Ps_HQA = HQA(Gs, Ps.copy(), N, qubits, qubits, distance_matrix=all_to_all_topology)\n",
    "\n",
    "    non_local_comunications = sum(count_non_local_comms(Ps_HQA[1:], distance_matrix=all_to_all_topology))\n",
    "    print(f\"Non-local communications: {non_local_comunications}\")\n",
    "    HQA_comms.append(sum(count_non_local_comms(Ps_HQA[1:])))\n"
   ]
  },
  {
   "cell_type": "code",
   "execution_count": 8,
   "metadata": {},
   "outputs": [
    {
     "name": "stdout",
     "output_type": "stream",
     "text": [
      "[ 2  1  0  0  8  1  7 12  3 18  6 19 13 17 14 16  9 13 13 17  5  5 16  2\n",
      "  2  4  7 10  8  5  5 18  6 13 18 10  6 19 15 11 12  4 12  3  3 19  6  7\n",
      " 16 16  3  6  8  4 15  6  9  4  9  8  8  1 13 18 12 14 19 19  6  6 17 15\n",
      "  7 16  9 18  2 19  0 14  1 15  7 11  6 18  2 10  4 10 14 16 11 12  7  9\n",
      "  3  7  9 18 17 17 14  5 16  5 11  0  1 11  3 10  2  8 13 11 15  0  5 19\n",
      "  5 17  2 10 16 15  8  2 13  1 11  5 17 17  1 14  6  8  8 19  3 12  0  0\n",
      " 14  7 11  1 12  5 13  9 13  0  9  1  7 15 16  2 15 14 15 19  4 12 17  4\n",
      "  4  3 18  9  8 10  3  0 18 14  7 15  0 13 16 10 12 18  9 10 11  3  2 17\n",
      " 12  4 14 11  4 10 19  1]\n"
     ]
    }
   ],
   "source": [
    "print(Ps[0])"
   ]
  },
  {
   "cell_type": "code",
   "execution_count": 9,
   "metadata": {},
   "outputs": [
    {
     "name": "stderr",
     "output_type": "stream",
     "text": [
      "100%|██████████| 64/64 [00:29<00:00,  2.17it/s]\n"
     ]
    },
    {
     "name": "stdout",
     "output_type": "stream",
     "text": [
      "5372\n"
     ]
    },
    {
     "name": "stderr",
     "output_type": "stream",
     "text": [
      "100%|██████████| 64/64 [00:31<00:00,  2.02it/s]"
     ]
    },
    {
     "name": "stdout",
     "output_type": "stream",
     "text": [
      "12528\n"
     ]
    },
    {
     "name": "stderr",
     "output_type": "stream",
     "text": [
      "\n"
     ]
    }
   ],
   "source": [
    "HQA_comms = []\n",
    "\n",
    "for N in cores:\n",
    "    part = [i for i in range(N) for _ in range(int(qubits/N))]\n",
    "    random.shuffle(part)\n",
    "\n",
    "    Ps = np.zeros((Gs.shape[0]+1, Gs.shape[1]), dtype=int)\n",
    "    Ps[0] = part\n",
    "\n",
    "    ##### Modifying initial partition (OEE instead of random assignation)\n",
    "    Ps[0], _, _ = oee(lookahead(Gs), None, N, part)\n",
    "\n",
    "    # 0-1-2-3-4-5-6-7-8-9\n",
    "    line_topology = [[abs(i-j) for j in range(N)] for i in range(N)]\n",
    "    Ps_HQA = HQA(Gs, Ps.copy(), N, qubits, qubits, distance_matrix=line_topology)\n",
    "\n",
    "    print(sum(count_non_local_comms(Ps_HQA[1:], distance_matrix=line_topology)))\n",
    "    HQA_comms.append(sum(count_non_local_comms(Ps_HQA[1:])))"
   ]
  }
 ],
 "metadata": {
  "kernelspec": {
   "display_name": "PhD",
   "language": "python",
   "name": "python3"
  },
  "language_info": {
   "codemirror_mode": {
    "name": "ipython",
    "version": 3
   },
   "file_extension": ".py",
   "mimetype": "text/x-python",
   "name": "python",
   "nbconvert_exporter": "python",
   "pygments_lexer": "ipython3",
   "version": "3.10.12"
  },
  "orig_nbformat": 4
 },
 "nbformat": 4,
 "nbformat_minor": 2
}
